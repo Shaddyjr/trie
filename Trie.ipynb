{
 "cells": [
  {
   "cell_type": "markdown",
   "id": "fdaf7273",
   "metadata": {},
   "source": [
    "# Data Structure: Trie (python)\n",
    "### [Glitched Failure Video]()"
   ]
  },
  {
   "cell_type": "markdown",
   "id": "632d49bf",
   "metadata": {},
   "source": [
    "## How does a `Trie` (my favorite data structure!) work?\n",
    "\n",
    "A trie is a __graph data structure__ built with nodes that point to other nodes.\n",
    "- This can be used to represent a large corpus (many words) in a small space. In our case, features will include:\n",
    "    - Root node: manages start of a word\n",
    "    - Each node represents a letter, __except for the root node__\n",
    "    - And node flagged as an \"end\" serves as a signal that the current letter could be the last letter of a word. _This is where the Trie is efficient!_. Shorter words \"fit\" inside of larger ones:\n",
    "        - For example, the word \"sorting\" shares the same nodes for the word \"sort\"\n",
    "    - Each node contains a set of children nodes, all of the possible characters that could come next.\n",
    "\n",
    "<img src='./images/Trie.png' width='200px'>"
   ]
  },
  {
   "cell_type": "markdown",
   "id": "ab3039b9",
   "metadata": {},
   "source": [
    "### Tests:"
   ]
  },
  {
   "cell_type": "code",
   "execution_count": null,
   "id": "f224d8d9",
   "metadata": {},
   "outputs": [],
   "source": [
    "# [TEST #1] Can add words and check if word is in the Trie\n",
    "trie = Trie()\n",
    "trie.add_word(\"hello\")\n",
    "\n",
    "assert \"hello\" in trie\n",
    "assert \"nothing\" not in trie\n",
    "print(\"Test passed!\")"
   ]
  },
  {
   "cell_type": "code",
   "execution_count": null,
   "id": "37014f14",
   "metadata": {},
   "outputs": [],
   "source": [
    "# [TEST #2] Has a count\n",
    "trie = Trie()\n",
    "\n",
    "trie.add_word(\"hello\")\n",
    "assert trie.count == 1\n",
    "\n",
    "trie.add_word(\"testing\")\n",
    "assert trie.count == 2\n",
    "\n",
    "# adding same word should NOT increase count\n",
    "trie.add_word(\"testing\")\n",
    "assert trie.count == 2\n",
    "\n",
    "print(\"Test passed!\")"
   ]
  },
  {
   "cell_type": "markdown",
   "id": "1dd55939",
   "metadata": {},
   "source": [
    "## Base `Node` Class"
   ]
  },
  {
   "cell_type": "code",
   "execution_count": 2,
   "id": "eba5e645",
   "metadata": {},
   "outputs": [],
   "source": [
    "class Node(): \n",
    "    def __init__(self, char):\n",
    "        self.children = dict()\n",
    "        self.char = char\n",
    "        self.is_end = False"
   ]
  },
  {
   "cell_type": "code",
   "execution_count": 11,
   "id": "7585efd9",
   "metadata": {},
   "outputs": [],
   "source": [
    "class Trie:\n",
    "    def __init__(self):\n",
    "        self.count = 0\n",
    "        self.root = Node(None)\n",
    "\n",
    "    def __repr__(self):\n",
    "        return f\"Trie: {self.count} word{'' if self.count == 1 else 's'}\"\n",
    "    \n",
    "    def add_word(self, word):\n",
    "        curr_node = self.root\n",
    "        \n",
    "        for char in word:\n",
    "            curr_node = self._find_or_create_child_node(curr_node, char)\n",
    "\n",
    "        if not curr_node.is_end: # duplicates won't add to count\n",
    "            curr_node.is_end = True\n",
    "            self.count += 1\n",
    "\n",
    "    def _find_or_create_child_node(self, node, char):\n",
    "        if char in node.children:\n",
    "            return node.children.get(char)\n",
    "        child_node = Node(char)\n",
    "        node.children[char] = child_node\n",
    "        return child_node\n",
    "\n",
    "    def __contains__(self, word):\n",
    "        curr_node = self.root\n",
    "\n",
    "        for char in word:\n",
    "            if char not in curr_node.children:\n",
    "                return False\n",
    "            curr_node = curr_node.children.get(char)\n",
    "\n",
    "        return curr_node.is_end"
   ]
  },
  {
   "cell_type": "code",
   "execution_count": 14,
   "id": "a14512a8",
   "metadata": {},
   "outputs": [],
   "source": [
    "trie = Trie()"
   ]
  },
  {
   "cell_type": "code",
   "execution_count": 16,
   "id": "884709f1",
   "metadata": {},
   "outputs": [],
   "source": [
    "trie.add_word(\"Hello\")"
   ]
  },
  {
   "cell_type": "code",
   "execution_count": 18,
   "id": "3b00d9d2",
   "metadata": {},
   "outputs": [
    {
     "data": {
      "text/plain": [
       "True"
      ]
     },
     "execution_count": 18,
     "metadata": {},
     "output_type": "execute_result"
    }
   ],
   "source": [
    "\"Hello\" in trie"
   ]
  },
  {
   "cell_type": "markdown",
   "id": "be223344",
   "metadata": {},
   "source": [
    "### Tests:"
   ]
  },
  {
   "cell_type": "code",
   "execution_count": 19,
   "id": "307b812b",
   "metadata": {},
   "outputs": [
    {
     "name": "stdout",
     "output_type": "stream",
     "text": [
      "Test passed!\n"
     ]
    }
   ],
   "source": [
    "# [TEST #1] Can add words and check if word is in the Trie\n",
    "trie = Trie()\n",
    "trie.add_word(\"hello\")\n",
    "\n",
    "assert \"hello\" in trie\n",
    "assert \"nothing\" not in trie\n",
    "print(\"Test passed!\")"
   ]
  },
  {
   "cell_type": "code",
   "execution_count": 20,
   "id": "d7628671",
   "metadata": {},
   "outputs": [
    {
     "name": "stdout",
     "output_type": "stream",
     "text": [
      "Test passed!\n"
     ]
    }
   ],
   "source": [
    "# [TEST #2] Has a count\n",
    "trie = Trie()\n",
    "\n",
    "trie.add_word(\"hello\")\n",
    "assert trie.count == 1\n",
    "\n",
    "trie.add_word(\"testing\")\n",
    "assert trie.count == 2\n",
    "\n",
    "# adding same word should NOT increase count\n",
    "trie.add_word(\"testing\")\n",
    "assert trie.count == 2\n",
    "\n",
    "print(\"Test passed!\")"
   ]
  },
  {
   "cell_type": "markdown",
   "id": "4b45a379",
   "metadata": {},
   "source": [
    "## Quick dictionary lookup\n",
    "World list [source](https://github.com/dwyl/english-words/blob/master/words_alpha.txt)\n"
   ]
  },
  {
   "cell_type": "code",
   "execution_count": 32,
   "id": "3d7339b5",
   "metadata": {},
   "outputs": [],
   "source": [
    "file = \"words_alpha.txt\"\n",
    "\n",
    "trie = Trie()\n",
    "with open(file, 'r') as f:\n",
    "    for raw_word in f.readlines():\n",
    "        word = raw_word.strip().lower()\n",
    "        trie.add_word(word)"
   ]
  },
  {
   "cell_type": "code",
   "execution_count": 33,
   "id": "9200625f",
   "metadata": {},
   "outputs": [
    {
     "data": {
      "text/plain": [
       "370103"
      ]
     },
     "execution_count": 33,
     "metadata": {},
     "output_type": "execute_result"
    }
   ],
   "source": [
    "trie.count"
   ]
  },
  {
   "cell_type": "code",
   "execution_count": 34,
   "id": "5fd5105f",
   "metadata": {},
   "outputs": [
    {
     "data": {
      "text/plain": [
       "True"
      ]
     },
     "execution_count": 34,
     "metadata": {},
     "output_type": "execute_result"
    }
   ],
   "source": [
    "'hello' in trie"
   ]
  },
  {
   "cell_type": "code",
   "execution_count": 35,
   "id": "ffc48211",
   "metadata": {},
   "outputs": [
    {
     "data": {
      "text/plain": [
       "False"
      ]
     },
     "execution_count": 35,
     "metadata": {},
     "output_type": "execute_result"
    }
   ],
   "source": [
    "\"asldkjasdf\" in trie"
   ]
  },
  {
   "cell_type": "markdown",
   "id": "92b0a8f1",
   "metadata": {},
   "source": [
    "## Use cases\n",
    "- The `Trie` data structure is optimized for lookup\n",
    "- Quick searches: \"Are these string of characters in the collection?\"\n",
    "    - More efficient that a `Set`, which would store each word individually\n",
    "- Quick partial searches: \"User starting typing the beginning of a word and we want a list of possible endings\"\n",
    "    - This would ignore the 'end' of a word and gather all words after end of partial string\n",
    "- Deduplicating (similar to a `Set`)\n",
    "- Serve as an efficient `Dict` (key:value pairs)\n",
    "    - String of char would be key\n",
    "    - Would need to add functionality to store the value"
   ]
  },
  {
   "cell_type": "markdown",
   "id": "ec3c38be",
   "metadata": {},
   "source": [
    "-----"
   ]
  },
  {
   "cell_type": "markdown",
   "id": "472c642a",
   "metadata": {},
   "source": [
    "# `WordSearchTrie`\n",
    "### [Scenario] We have an book application and we want to allow users to:\n",
    "- Be able to quickly search for words in a large text\n",
    "- Know how often that word shows up\n",
    "\n",
    "### Modifications to `Trie`\n",
    "- We'll need to store the location (index) for each word on the \"end\" node (as a list)\n",
    "- The \"count\" will just be the length of this list"
   ]
  },
  {
   "cell_type": "markdown",
   "id": "c83b0cab",
   "metadata": {},
   "source": [
    "### Tests"
   ]
  },
  {
   "cell_type": "code",
   "execution_count": null,
   "id": "3628cb85",
   "metadata": {},
   "outputs": [],
   "source": [
    "# [TEST #1]\n",
    "# Can add words and check if word is in the Trie, returning indices for each word\n",
    "ws_trie = WordSearchTrie()\n",
    "\n",
    "ws_trie.add_word('one', 0)\n",
    "ws_trie.add_word('two', 4)\n",
    "ws_trie.add_word('three', 8)\n",
    "\n",
    "assert ws_trie['one'] == [0] # indices of \"one\"\n",
    "assert ws_trie['nothing'] == [] # indices of \"nothing\"\n",
    "print(\"Test passed!\")"
   ]
  },
  {
   "cell_type": "code",
   "execution_count": null,
   "id": "68090076",
   "metadata": {},
   "outputs": [],
   "source": [
    "# [TEST #2] Duplicates are handled as expected\n",
    "ws_trie = WordSearchTrie()\n",
    "\n",
    "ws_trie.add_word('one', 0)\n",
    "ws_trie.add_word('two', 4)\n",
    "ws_trie.add_word('one', 8)\n",
    "\n",
    "assert ws_trie['one'] == [0, 8] # indices of \"one\"\n",
    "print(\"Test passed!\")"
   ]
  },
  {
   "cell_type": "markdown",
   "id": "91a29209",
   "metadata": {},
   "source": [
    "# `WordSearchNode`"
   ]
  },
  {
   "cell_type": "code",
   "execution_count": 36,
   "id": "2b54e82b",
   "metadata": {},
   "outputs": [],
   "source": [
    "class WordSearchNode(): \n",
    "    def __init__(self, char):\n",
    "        self.children = dict()\n",
    "        self.char = char\n",
    "        self.is_end = False\n",
    "        self.indices = [] # for end node, where in text can the word be found"
   ]
  },
  {
   "cell_type": "markdown",
   "id": "ab23af82",
   "metadata": {},
   "source": [
    "# `WordSearchTrie`"
   ]
  },
  {
   "cell_type": "code",
   "execution_count": 37,
   "id": "31eb520e",
   "metadata": {},
   "outputs": [],
   "source": [
    "class WordSearchTrie:\n",
    "    def __init__(self):\n",
    "        self.count = 0 # count of all unique words (not required by spec, but nice to have)\n",
    "        self.root = WordSearchNode(None)\n",
    "\n",
    "    def __repr__(self):\n",
    "        return f\"WordSearchTrie: {self.count} word{'' if self.count == 1 else 's'}\"\n",
    "    \n",
    "    def add_word(self, word, index):\n",
    "        curr_node = self.root\n",
    "        \n",
    "        for char in word:\n",
    "            curr_node = self._find_or_create_child_node(curr_node, char)\n",
    "\n",
    "        curr_node.indices.append(index)\n",
    "        if not curr_node.is_end: # duplicates won't add to count (on Trie)\n",
    "            curr_node.is_end = True\n",
    "            self.count += 1\n",
    "\n",
    "    def _find_or_create_child_node(self, node, char):\n",
    "        if char in node.children:\n",
    "            return node.children.get(char)\n",
    "        child_node = WordSearchNode(char)\n",
    "        node.children[char] = child_node\n",
    "        return child_node\n",
    "\n",
    "    def __getitem__(self, word):\n",
    "        curr_node = self.root\n",
    "        \n",
    "        for char in word:\n",
    "            if char not in curr_node.children:\n",
    "                return [] # word not in Trie\n",
    "            curr_node = curr_node.children.get(char)\n",
    "\n",
    "        return curr_node.indices[:] # return copy of indices array "
   ]
  },
  {
   "cell_type": "code",
   "execution_count": 38,
   "id": "798d1243",
   "metadata": {},
   "outputs": [],
   "source": [
    "ws_trie = WordSearchTrie()"
   ]
  },
  {
   "cell_type": "code",
   "execution_count": 39,
   "id": "02bede78",
   "metadata": {},
   "outputs": [],
   "source": [
    "ws_trie.add_word(\"hallo\", 999)"
   ]
  },
  {
   "cell_type": "code",
   "execution_count": 45,
   "id": "00227c09",
   "metadata": {},
   "outputs": [],
   "source": [
    "l = ws_trie[\"hallo\"]\n",
    "l.append(88)"
   ]
  },
  {
   "cell_type": "code",
   "execution_count": 46,
   "id": "e3458063",
   "metadata": {},
   "outputs": [
    {
     "data": {
      "text/plain": [
       "[999, 88]"
      ]
     },
     "execution_count": 46,
     "metadata": {},
     "output_type": "execute_result"
    }
   ],
   "source": [
    "l"
   ]
  },
  {
   "cell_type": "code",
   "execution_count": 48,
   "id": "5f9dfade",
   "metadata": {},
   "outputs": [
    {
     "data": {
      "text/plain": [
       "[999]"
      ]
     },
     "execution_count": 48,
     "metadata": {},
     "output_type": "execute_result"
    }
   ],
   "source": [
    "ws_trie[\"hallo\"]"
   ]
  },
  {
   "cell_type": "markdown",
   "id": "6b7d9951",
   "metadata": {},
   "source": [
    "### Tests"
   ]
  },
  {
   "cell_type": "code",
   "execution_count": 49,
   "id": "1e0f1ce4",
   "metadata": {},
   "outputs": [
    {
     "name": "stdout",
     "output_type": "stream",
     "text": [
      "Test passed!\n"
     ]
    }
   ],
   "source": [
    "# [TEST #1] Can add words and check if word is in the Trie, returning word count and indices for each word\n",
    "ws_trie = WordSearchTrie()\n",
    "\n",
    "ws_trie.add_word('one', 0)\n",
    "ws_trie.add_word('two', 4)\n",
    "ws_trie.add_word('three', 8)\n",
    "\n",
    "assert ws_trie['one'] == [0] # indices of \"one\"\n",
    "assert ws_trie['nothing'] == [] # indices of \"nothing\"\n",
    "print(\"Test passed!\")"
   ]
  },
  {
   "cell_type": "code",
   "execution_count": 50,
   "id": "d0d43939",
   "metadata": {},
   "outputs": [
    {
     "name": "stdout",
     "output_type": "stream",
     "text": [
      "Test passed!\n"
     ]
    }
   ],
   "source": [
    "# [TEST #2] Duplicates are handled as expected\n",
    "ws_trie = WordSearchTrie()\n",
    "\n",
    "ws_trie.add_word('one', 0)\n",
    "ws_trie.add_word('two', 4)\n",
    "ws_trie.add_word('one', 8)\n",
    "\n",
    "assert ws_trie['one'] == [0, 8] # indices of \"one\"\n",
    "print(\"Test passed!\")"
   ]
  },
  {
   "cell_type": "markdown",
   "id": "9be3eec5",
   "metadata": {},
   "source": [
    "### Alice's Adventures in Wonderland by Lewis Carroll\n",
    "Source: https://www.gutenberg.org/ebooks/11"
   ]
  },
  {
   "cell_type": "code",
   "execution_count": 51,
   "id": "ebea672e",
   "metadata": {},
   "outputs": [],
   "source": [
    "import re\n",
    "\n",
    "def process_word(word):\n",
    "    \"\"\"Removes non-letter characters\"\"\"\n",
    "    return re.sub(r'[^a-z]', \"\", word.strip().lower())"
   ]
  },
  {
   "cell_type": "code",
   "execution_count": 52,
   "id": "8e5df081",
   "metadata": {},
   "outputs": [
    {
     "data": {
      "text/plain": [
       "'efgabcd'"
      ]
     },
     "execution_count": 52,
     "metadata": {},
     "output_type": "execute_result"
    }
   ],
   "source": [
    "process_word(\"EFGabcd 123 @#$&\")"
   ]
  },
  {
   "cell_type": "markdown",
   "id": "49277c17",
   "metadata": {},
   "source": [
    "#### Loading book example"
   ]
  },
  {
   "cell_type": "code",
   "execution_count": 53,
   "id": "bcaaff12",
   "metadata": {},
   "outputs": [
    {
     "data": {
      "text/plain": [
       "[('the', 0),\n",
       " ('project', 5),\n",
       " ('gutenberg', 13),\n",
       " ('ebook', 23),\n",
       " ('of', 29),\n",
       " ('alices', 32),\n",
       " ('adventures', 40),\n",
       " ('in', 51),\n",
       " ('wonderland', 54),\n",
       " ('by', 66),\n",
       " ('lewis', 69),\n",
       " ('carroll', 75),\n",
       " ('this', 84),\n",
       " ('ebook', 89),\n",
       " ('is', 95),\n",
       " ('for', 98),\n",
       " ('the', 102),\n",
       " ('use', 106),\n",
       " ('of', 110),\n",
       " ('anyone', 113),\n",
       " ('anywhere', 120),\n",
       " ('in', 129),\n",
       " ('the', 132),\n",
       " ('united', 136),\n",
       " ('states', 143),\n",
       " ('and', 150),\n",
       " ('most', 154),\n",
       " ('other', 159),\n",
       " ('parts', 165),\n",
       " ('of', 171),\n",
       " ('the', 174),\n",
       " ('world', 178),\n",
       " ('at', 184),\n",
       " ('no', 187),\n",
       " ('cost', 190),\n",
       " ('and', 195),\n",
       " ('with', 199),\n",
       " ('almost', 204),\n",
       " ('no', 211),\n",
       " ('restrictions', 214),\n",
       " ('whatsoever', 227),\n",
       " ('you', 239),\n",
       " ('may', 243),\n",
       " ('copy', 247),\n",
       " ('it', 252),\n",
       " ('give', 256),\n",
       " ('it', 261),\n",
       " ('away', 264),\n",
       " ('or', 269),\n",
       " ('reuse', 272),\n",
       " ('it', 279),\n",
       " ('under', 282),\n",
       " ('the', 288),\n",
       " ('terms', 292),\n",
       " ('of', 298),\n",
       " ('the', 301),\n",
       " ('project', 305),\n",
       " ('gutenberg', 313),\n",
       " ('license', 323),\n",
       " ('included', 331),\n",
       " ('with', 340),\n",
       " ('this', 345),\n",
       " ('ebook', 350),\n",
       " ('or', 356),\n",
       " ('online', 359),\n",
       " ('at', 366),\n",
       " ('wwwgutenbergorg', 369),\n",
       " ('if', 388),\n",
       " ('you', 391),\n",
       " ('are', 395),\n",
       " ('not', 399),\n",
       " ('located', 403),\n",
       " ('in', 411),\n",
       " ('the', 414),\n",
       " ('united', 418),\n",
       " ('states', 425),\n",
       " ('you', 433),\n",
       " ('will', 437),\n",
       " ('have', 442),\n",
       " ('to', 447),\n",
       " ('check', 450),\n",
       " ('the', 456),\n",
       " ('laws', 460),\n",
       " ('of', 465),\n",
       " ('the', 468),\n",
       " ('country', 472),\n",
       " ('where', 480),\n",
       " ('you', 486),\n",
       " ('are', 490),\n",
       " ('located', 494),\n",
       " ('before', 502),\n",
       " ('using', 509),\n",
       " ('this', 515),\n",
       " ('ebook', 520),\n",
       " ('title', 528),\n",
       " ('alices', 535),\n",
       " ('adventures', 543),\n",
       " ('in', 554),\n",
       " ('wonderland', 557),\n",
       " ('author', 569),\n",
       " ('lewis', 577),\n",
       " ('carroll', 583),\n",
       " ('release', 592),\n",
       " ('date', 600),\n",
       " ('january', 606),\n",
       " ('ebook', 620),\n",
       " ('most', 632),\n",
       " ('recently', 638),\n",
       " ('updated', 647),\n",
       " ('october', 656),\n",
       " ('language', 675),\n",
       " ('english', 685),\n",
       " ('character', 694),\n",
       " ('set', 704),\n",
       " ('encoding', 708),\n",
       " ('utf', 718),\n",
       " ('produced', 725),\n",
       " ('by', 734),\n",
       " ('arthur', 738),\n",
       " ('dibianca', 745),\n",
       " ('and', 754),\n",
       " ('david', 758),\n",
       " ('widger', 764),\n",
       " ('start', 776),\n",
       " ('of', 782),\n",
       " ('the', 785),\n",
       " ('project', 789),\n",
       " ('gutenberg', 797),\n",
       " ('ebook', 807),\n",
       " ('alices', 813),\n",
       " ('adventures', 821),\n",
       " ('in', 832),\n",
       " ('wonderland', 835),\n",
       " ('illustration', 851),\n",
       " ('alices', 870),\n",
       " ('adventures', 878),\n",
       " ('in', 889),\n",
       " ('wonderland', 892),\n",
       " ('by', 904),\n",
       " ('lewis', 907),\n",
       " ('carroll', 913),\n",
       " ('the', 922),\n",
       " ('millennium', 926),\n",
       " ('fulcrum', 937),\n",
       " ('edition', 945),\n",
       " ('contents', 958),\n",
       " ('chapter', 969),\n",
       " ('i', 977),\n",
       " ('down', 984),\n",
       " ('the', 989),\n",
       " ('rabbit', 993)]"
      ]
     },
     "execution_count": 53,
     "metadata": {},
     "output_type": "execute_result"
    }
   ],
   "source": [
    "# EXAMPLE WITH FIRST 1000 CHARACTERS FROM BOOK\n",
    "file = \"alice_in_wonderland.txt\"\n",
    "\n",
    "with open(file,'r',encoding = 'utf-8') as f:\n",
    "    full_text = f.read()[:1000]\n",
    "\n",
    "processed_words = []\n",
    "STOP_CHAR = (' ', '\\n')\n",
    "max_n = len(full_text)\n",
    "\n",
    "index_cursor = 0\n",
    "fast_cursor = 0\n",
    "while fast_cursor < max_n:\n",
    "    while fast_cursor < max_n and full_text[fast_cursor] not in STOP_CHAR:\n",
    "        fast_cursor += 1\n",
    "\n",
    "    word = full_text[index_cursor:fast_cursor]\n",
    "    processed_word = process_word(word)\n",
    "    if processed_word:\n",
    "        processed_words.append((processed_word, index_cursor))\n",
    "    fast_cursor += 1\n",
    "    index_cursor = fast_cursor\n",
    "processed_words"
   ]
  },
  {
   "cell_type": "markdown",
   "id": "c6bfa383",
   "metadata": {},
   "source": [
    "#### Loading book into `WordSearchTrie`"
   ]
  },
  {
   "cell_type": "code",
   "execution_count": 55,
   "id": "259cc2ee",
   "metadata": {},
   "outputs": [],
   "source": [
    "file = \"alice_in_wonderland.txt\"\n",
    "\n",
    "ws_trie = WordSearchTrie()\n",
    "\n",
    "with open(file,'r',encoding = 'utf-8') as f:\n",
    "    full_text = f.read()\n",
    "\n",
    "STOP_CHAR = (' ', '\\n')\n",
    "max_n = len(full_text)\n",
    "\n",
    "index_cursor = 0\n",
    "fast_cursor = 0\n",
    "while fast_cursor < max_n:\n",
    "    while fast_cursor < max_n and full_text[fast_cursor] not in STOP_CHAR:\n",
    "        fast_cursor += 1\n",
    "\n",
    "    word = full_text[index_cursor:fast_cursor]\n",
    "    processed_word = process_word(word)\n",
    "    if processed_word:\n",
    "        ws_trie.add_word(processed_word, index_cursor)\n",
    "    fast_cursor += 1\n",
    "    index_cursor = fast_cursor"
   ]
  },
  {
   "cell_type": "code",
   "execution_count": 56,
   "id": "98e873f1",
   "metadata": {},
   "outputs": [
    {
     "data": {
      "text/plain": [
       "[7371, 11119, 11971, 18898, 33864, 39126, 39531, 40191, 85233]"
      ]
     },
     "execution_count": 56,
     "metadata": {},
     "output_type": "execute_result"
    }
   ],
   "source": [
    "ws_trie['glass']"
   ]
  },
  {
   "cell_type": "code",
   "execution_count": 57,
   "id": "88797e77",
   "metadata": {},
   "outputs": [
    {
     "data": {
      "text/plain": [
       "9"
      ]
     },
     "execution_count": 57,
     "metadata": {},
     "output_type": "execute_result"
    }
   ],
   "source": [
    "len(ws_trie['glass'])"
   ]
  },
  {
   "cell_type": "markdown",
   "id": "3e734d13",
   "metadata": {},
   "source": [
    "### User experience"
   ]
  },
  {
   "cell_type": "code",
   "execution_count": 58,
   "id": "6e7814d5",
   "metadata": {},
   "outputs": [],
   "source": [
    "def print_highlight_index(index, word_length, full_text):\n",
    "    # https://stackoverflow.com/questions/16816013/is-it-possible-to-print-using-different-colors-in-ipythons-notebook\n",
    "    RED = \"\\x1b[31m\"\n",
    "    NO_COLOR = \"\\x1b[0m\"\n",
    "    WINDOW = 30\n",
    "    min_index = max(index - WINDOW, 0)\n",
    "    max_index = min(index + WINDOW, len(full_text))\n",
    "    left_text = full_text[min_index:index]\n",
    "    index_text = full_text[index:index+word_length]\n",
    "    right_text = full_text[index+word_length: max_index]\n",
    "\n",
    "    string = f\"{left_text}{RED}{index_text}{NO_COLOR}{right_text}\".replace(\"\\n\",' ')\n",
    "    print(string)"
   ]
  },
  {
   "cell_type": "code",
   "execution_count": 59,
   "id": "e454ee2f",
   "metadata": {},
   "outputs": [
    {
     "name": "stdout",
     "output_type": "stream",
     "text": [
      "some\u001b[31mthi\u001b[0mng\n"
     ]
    }
   ],
   "source": [
    "print_highlight_index(4,3,\"something\")"
   ]
  },
  {
   "cell_type": "code",
   "execution_count": 60,
   "id": "75089f82",
   "metadata": {},
   "outputs": [
    {
     "name": "stdout",
     "output_type": "stream",
     "text": [
      "chess. An invitation from the \u001b[31mQueen\u001b[0m to play croquet.” The Fr\n",
      "the words a little, “From the \u001b[31mQueen\u001b[0m. An invitation for the D\n",
      "eady to play croquet with the \u001b[31mQueen\u001b[0m,” and she hurried out of\n",
      "“Do you play croquet with the \u001b[31mQueen\u001b[0m to-day?”  “I should like\n",
      "he great concert given by the \u001b[31mQueen\u001b[0m of Hearts, and I had to \n",
      ",” said the Hatter, “when the \u001b[31mQueen\u001b[0m jumped up and bawled out\n",
      "alk!” said Five. “I heard the \u001b[31mQueen\u001b[0m say only yesterday you d\n",
      "one in by mistake; and if the \u001b[31mQueen\u001b[0m was to find it out, we s\n",
      "s the garden, called out “The \u001b[31mQueen\u001b[0m! The Queen!” and the thr\n",
      "n, called out “The Queen! The \u001b[31mQueen\u001b[0m!” and the three gardener\n",
      "ooked round, eager to see the \u001b[31mQueen\u001b[0m.  First came ten soldier\n",
      "procession, came THE KING AND \u001b[31mQUEEN\u001b[0m OF HEARTS.  Alice was ra\n",
      "ed and looked at her, and the \u001b[31mQueen\u001b[0m said severely “Who is th\n",
      " in reply.  “Idiot!” said the \u001b[31mQueen\u001b[0m, tossing her head impati\n",
      "nd who are _these?_” said the \u001b[31mQueen\u001b[0m, pointing to the three g\n",
      " no business of _mine_.”  The \u001b[31mQueen\u001b[0m turned crimson with fury\n",
      "loudly and decidedly, and the \u001b[31mQueen\u001b[0m was silent.  The King la\n",
      "r: she is only a child!”  The \u001b[31mQueen\u001b[0m turned angrily away from\n",
      "one foot.  “Get up!” said the \u001b[31mQueen\u001b[0m, in a shrill, loud voice\n",
      "began bowing to the King, the \u001b[31mQueen\u001b[0m, the royal children, and\n",
      "Leave off that!” screamed the \u001b[31mQueen\u001b[0m. “You make me giddy.” An\n",
      "trying—”  “_I_ see!” said the \u001b[31mQueen\u001b[0m, who had meanwhile been \n",
      "their heads off?” shouted the \u001b[31mQueen\u001b[0m.  “Their heads are gone,\n",
      "  “That’s right!” shouted the \u001b[31mQueen\u001b[0m. “Can you play croquet?”\n",
      "  “Come on, then!” roared the \u001b[31mQueen\u001b[0m, and Alice joined the pr\n",
      "ed in a frightened tone. “The \u001b[31mQueen\u001b[0m will hear you! You see, \n",
      "she came rather late, and the \u001b[31mQueen\u001b[0m said—”  “Get to your pla\n",
      " to your places!” shouted the \u001b[31mQueen\u001b[0m in a voice of thunder, a\n",
      " and in a very short time the \u001b[31mQueen\u001b[0m was in a furious passion\n",
      " yet had any dispute with the \u001b[31mQueen\u001b[0m, but she knew that it mi\n",
      "oming!”  “How do you like the \u001b[31mQueen\u001b[0m?” said the Cat in a low \n",
      "ust then she noticed that the \u001b[31mQueen\u001b[0m was close behind her, li\n",
      "ile finishing the game.”  The \u001b[31mQueen\u001b[0m smiled and passed on.  “\n",
      " decidedly, and he called the \u001b[31mQueen\u001b[0m, who was passing at the \n",
      " have this cat removed!”  The \u001b[31mQueen\u001b[0m had only one way of sett\n",
      "xecutioner, the King, and the \u001b[31mQueen\u001b[0m, who were all talking at\n",
      " it.”  “She’s in prison,” the \u001b[31mQueen\u001b[0m said to the executioner:\n",
      "ooked up, and there stood the \u001b[31mQueen\u001b[0m in front of them, with h\n",
      "ou fair warning,” shouted the \u001b[31mQueen\u001b[0m, stamping on the ground \n",
      "t’s go on with the game,” the \u001b[31mQueen\u001b[0m said to Alice; and Alice\n",
      "hurried back to the game, the \u001b[31mQueen\u001b[0m merely remarking that a \n",
      "he time they were playing the \u001b[31mQueen\u001b[0m never left off quarrelli\n",
      "players, except the King, the \u001b[31mQueen\u001b[0m, and Alice, were in cust\n",
      "tence of execution.  Then the \u001b[31mQueen\u001b[0m left off, quite out of b\n",
      " Soup is made from,” said the \u001b[31mQueen\u001b[0m.  “I never saw one, or h\n",
      "e.  “Come on, then,” said the \u001b[31mQueen\u001b[0m, “and he shall tell you \n",
      " the number of executions the \u001b[31mQueen\u001b[0m had ordered.  They very \n",
      ".) “Up, lazy thing!” said the \u001b[31mQueen\u001b[0m, “and take this young la\n",
      "it as to go after that savage \u001b[31mQueen\u001b[0m: so she waited.  The Gry\n",
      "its eyes: then it watched the \u001b[31mQueen\u001b[0m till she was out of sigh\n",
      "ole the Tarts?   The King and \u001b[31mQueen\u001b[0m of Hearts were seated on\n",
      ", and read as follows:—  “The \u001b[31mQueen\u001b[0m of Hearts, she made some\n",
      "own. I’m a hatter.”  Here the \u001b[31mQueen\u001b[0m put on her spectacles, a\n",
      "ther, looking uneasily at the \u001b[31mQueen\u001b[0m, and in his confusion he\n",
      "the court.  All this time the \u001b[31mQueen\u001b[0m had never left off stari\n",
      ", with an anxious look at the \u001b[31mQueen\u001b[0m, who was reading the lis\n",
      "ke his head off outside,” the \u001b[31mQueen\u001b[0m added to one of the offi\n",
      "  “Collar that Dormouse,” the \u001b[31mQueen\u001b[0m shrieked out. “Behead th\n",
      " added in an undertone to the \u001b[31mQueen\u001b[0m, “Really, my dear, _you_\n",
      "ly two miles high,” added the \u001b[31mQueen\u001b[0m.  “Well, I shan’t go, at\n",
      "p.”  “What’s in it?” said the \u001b[31mQueen\u001b[0m.  “I haven’t opened it y\n",
      "_proves_ his guilt,” said the \u001b[31mQueen\u001b[0m.  “It proves nothing of \n",
      "ear, I think?” he said to the \u001b[31mQueen\u001b[0m.  “Never!” said the Quee\n",
      "the Queen.  “Never!” said the \u001b[31mQueen\u001b[0m furiously, throwing an i\n",
      "that day.  “No, no!” said the \u001b[31mQueen\u001b[0m. “Sentence first—verdict\n",
      " “Hold your tongue!” said the \u001b[31mQueen\u001b[0m, turning purple.  “I won\n",
      "ce.  “Off with her head!” the \u001b[31mQueen\u001b[0m shouted at the top of he\n",
      ", and the shrill voice of the \u001b[31mQueen\u001b[0m ordering off her unfortu\n"
     ]
    }
   ],
   "source": [
    "word = 'queen'\n",
    "for index in ws_trie[word]:\n",
    "    print_highlight_index(index,len(word), full_text)"
   ]
  },
  {
   "cell_type": "code",
   "execution_count": null,
   "id": "a9392263",
   "metadata": {},
   "outputs": [],
   "source": []
  }
 ],
 "metadata": {
  "kernelspec": {
   "display_name": "Python 3 (ipykernel)",
   "language": "python",
   "name": "python3"
  },
  "language_info": {
   "codemirror_mode": {
    "name": "ipython",
    "version": 3
   },
   "file_extension": ".py",
   "mimetype": "text/x-python",
   "name": "python",
   "nbconvert_exporter": "python",
   "pygments_lexer": "ipython3",
   "version": "3.8.5"
  }
 },
 "nbformat": 4,
 "nbformat_minor": 5
}
